{
 "cells": [
  {
   "cell_type": "code",
   "execution_count": null,
   "metadata": {},
   "outputs": [],
   "source": [
    "import csv\n",
    "import logging\n",
    "import random\n",
    "import time\n",
    "\n",
    "# Set up basic configuration for logging\n",
    "logging.basicConfig(\n",
    "    level=logging.INFO, format=\"%(asctime)s - %(levelname)s - %(message)s\"\n",
    ")\n",
    "\n",
    "# Program Constants\n",
    "HOST = \"localhost\"\n",
    "PORT = 9999\n",
    "INPUT_FILE_NAME = \"AIDS_Classification.csv\"\n",
    "OUTPUT_FILE_NAME = \"out9.txt\"\n",
    "\n",
    "def prepare_message_from_row(row):\n",
    "    \"\"\"Prepare a binary message from a given row.\"\"\"\n",
    "    try:\n",
    "        # Unpack row data into individual variables\n",
    "        time, trt, age, wtkg, hemo, homo, drugs, karnof, oprior, z30, preanti, race, gender, str2, strat, symptom, treat, offtrt, cd40, cd420, cd80, cd820, infected = row\n",
    "        \n",
    "        # Create formatted message string\n",
    "        fstring_message = f\"[{time}, {trt}, {age}, {wtkg}, {hemo}, {homo}, {drugs}, {karnof}, {oprior}, {z30}, {preanti}, {race}, {gender}, {str2}, {strat}, {symptom}, {treat}, {offtrt}, {cd40}, {cd420}, {cd80}, {cd820}, {infected} ]\"\n",
    "        \n",
    "        # Log the prepared message\n",
    "        logging.debug(f\"Prepared message: {fstring_message}\")\n",
    "        \n",
    "        # Return the formatted message\n",
    "        return fstring_message\n",
    "    \n",
    "    \n"
   ]
  },
  {
   "cell_type": "code",
   "execution_count": null,
   "metadata": {},
   "outputs": [],
   "source": []
  }
 ],
 "metadata": {
  "kernelspec": {
   "display_name": "Python 3 (ipykernel)",
   "language": "python",
   "name": "python3"
  },
  "language_info": {
   "codemirror_mode": {
    "name": "ipython",
    "version": 3
   },
   "file_extension": ".py",
   "mimetype": "text/x-python",
   "name": "python",
   "nbconvert_exporter": "python",
   "pygments_lexer": "ipython3",
   "version": "3.10.9"
  }
 },
 "nbformat": 4,
 "nbformat_minor": 2
}
